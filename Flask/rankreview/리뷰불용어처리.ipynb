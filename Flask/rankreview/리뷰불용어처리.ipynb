{
 "cells": [
  {
   "cell_type": "code",
   "execution_count": 10,
   "metadata": {},
   "outputs": [
    {
     "name": "stdout",
     "output_type": "stream",
     "text": [
      "불용어 제거 및 리뷰 정리 완료.\n"
     ]
    }
   ],
   "source": [
    "import json\n",
    "import re\n",
    "\n",
    "# 불용어 목록 (필요에 따라 추가/수정 가능)\n",
    "stopwords = ['\\n', '\\\\n', '\\t', '\\\\t']\n",
    "\n",
    "# 불용어를 제거하는 함수\n",
    "def remove_stopwords(text):\n",
    "    for word in stopwords:\n",
    "        text = text.replace(word, ' ')\n",
    "    return re.sub(' +', ' ', text)  # 여러 개의 공백을 하나로 치환\n",
    "\n",
    "# JSON 파일 읽기\n",
    "with open('rank_summary2.json', 'r', encoding='utf-8') as file:\n",
    "    data = json.load(file)\n",
    "\n",
    "# `all_reviews` 키의 문자열에서 불용어 제거하고, 0에 해당하는 값만 남기기\n",
    "for institute in data['skyline']:\n",
    "    # 불용어 제거\n",
    "    clean_reviews = remove_stopwords(institute['all_reviews'])\n",
    "    # JSON 문자열 파싱\n",
    "    all_reviews = json.loads(clean_reviews.replace('\\\\', ''))\n",
    "    # 0에 해당하는 값만 남기기\n",
    "    if \"0\" in all_reviews:\n",
    "        institute['all_reviews'] = all_reviews[\"0\"]\n",
    "    else:\n",
    "        institute['all_reviews'] = all_reviews\n",
    "\n",
    "for institute in data['neighbors']:\n",
    "    # 불용어 제거\n",
    "    clean_reviews = remove_stopwords(institute['all_reivews'])\n",
    "    # JSON 문자열 파싱\n",
    "    all_reviews = json.loads(clean_reviews.replace('\\\\', ''))\n",
    "    # 0에 해당하는 값만 남기기\n",
    "    if \"0\" in all_reviews:\n",
    "        institute['all_reivews'] = all_reviews[\"0\"]\n",
    "    else:\n",
    "        institute['all_reivews'] = all_reviews\n",
    "\n",
    "# 수정된 JSON 데이터를 파일로 저장\n",
    "with open('reviews_2.json', 'w', encoding='utf-8') as file:\n",
    "    json.dump(data, file, ensure_ascii=False, indent=4)\n",
    "\n",
    "print(\"불용어 제거 및 리뷰 정리 완료.\")\n"
   ]
  },
  {
   "cell_type": "code",
   "execution_count": 11,
   "metadata": {},
   "outputs": [
    {
     "name": "stdout",
     "output_type": "stream",
     "text": [
      "불용어 제거 및 리뷰 정리 완료.\n"
     ]
    }
   ],
   "source": [
    "import json\n",
    "import re\n",
    "\n",
    "# 불용어 목록 (필요에 따라 추가/수정 가능)\n",
    "stopwords = ['\\n', '\\\\n', '\\t', '\\\\t']\n",
    "\n",
    "# 불용어를 제거하는 함수\n",
    "def remove_stopwords(text):\n",
    "    for word in stopwords:\n",
    "        text = text.replace(word, ' ')\n",
    "    return re.sub(' +', ' ', text)  # 여러 개의 공백을 하나로 치환\n",
    "\n",
    "# JSON 파일 읽기\n",
    "with open('rank_summary_t.json', 'r', encoding='utf-8') as file:\n",
    "    data = json.load(file)\n",
    "\n",
    "# `all_reivews` 키의 문자열에서 불용어 제거하고, 0에 해당하는 값만 남기기\n",
    "def process_reviews(data):\n",
    "    for institute in data:\n",
    "        if 'all_reivews' in institute:\n",
    "            # 불용어 제거\n",
    "            clean_reviews = remove_stopwords(institute['all_reivews'])\n",
    "            # JSON 문자열 파싱\n",
    "            all_reviews = json.loads(clean_reviews.replace('\\\\', ''))\n",
    "            # 0에 해당하는 값만 남기기\n",
    "            if \"0\" in all_reviews:\n",
    "                institute['all_reviews'] = all_reviews[\"0\"]\n",
    "            else:\n",
    "                institute['all_reviews'] = []\n",
    "def process_reviews1(data):\n",
    "    for institute in data:\n",
    "        if 'all_reviews' in institute:\n",
    "            # 불용어 제거\n",
    "            clean_reviews = remove_stopwords(institute['all_reviews'])\n",
    "            # JSON 문자열 파싱\n",
    "            all_reviews = json.loads(clean_reviews.replace('\\\\', ''))\n",
    "            # 0에 해당하는 값만 남기기\n",
    "            if \"0\" in all_reviews:\n",
    "                institute['all_reviews'] = all_reviews[\"0\"]\n",
    "            else:\n",
    "                institute['all_reviews'] = []\n",
    "# `prime_candidate` 처리\n",
    "process_reviews1([data['prime_candidate']])\n",
    "\n",
    "# `ranked_best_candidates` 처리\n",
    "process_reviews(data['ranked_best_candidates'])\n",
    "\n",
    "# `ranked_worst_candidates` 처리\n",
    "process_reviews(data['ranked_worst_candidates'])\n",
    "\n",
    "# 수정된 JSON 데이터를 파일로 저장\n",
    "with open('reviews_t.json', 'w', encoding='utf-8') as file:\n",
    "    json.dump(data, file, ensure_ascii=False, indent=4)\n",
    "\n",
    "print(\"불용어 제거 및 리뷰 정리 완료.\")\n"
   ]
  },
  {
   "cell_type": "code",
   "execution_count": 13,
   "metadata": {},
   "outputs": [
    {
     "name": "stdout",
     "output_type": "stream",
     "text": [
      "Successfully removed 'all_reivews' key from JSON file.\n"
     ]
    }
   ],
   "source": [
    "import json\n",
    "\n",
    "# JSON 파일 경로\n",
    "file_path = 'reviews_t.json'\n",
    "\n",
    "# JSON 파일 읽기\n",
    "with open(file_path, 'r', encoding='utf-8') as file:\n",
    "    data = json.load(file)\n",
    "\n",
    "# \"all_reivews\" 키 제거\n",
    "if 'ranked_best_candidates' in data:\n",
    "    for candidate in data['ranked_best_candidates']:\n",
    "        if 'all_reivews' in candidate:\n",
    "            del candidate['all_reivews']\n",
    "    for candidate in data['ranked_worst_candidates']:\n",
    "        if 'all_reivews' in candidate:\n",
    "            del candidate['all_reivews']\n",
    "\n",
    "# 변경된 JSON 데이터를 파일에 쓰기\n",
    "with open(file_path, 'w', encoding='utf-8') as file:\n",
    "    json.dump(data, file, ensure_ascii=False, indent=4)\n",
    "\n",
    "print(\"Successfully removed 'all_reivews' key from JSON file.\")\n"
   ]
  },
  {
   "cell_type": "code",
   "execution_count": 18,
   "metadata": {},
   "outputs": [
    {
     "name": "stdout",
     "output_type": "stream",
     "text": [
      "Successfully removed 'all_reivews' key from JSON file.\n"
     ]
    }
   ],
   "source": [
    "import json\n",
    "\n",
    "# JSON 파일 경로\n",
    "file_path = 'reviews_s.json'\n",
    "\n",
    "# JSON 파일 읽기\n",
    "with open(file_path, 'r', encoding='utf-8') as file:\n",
    "    data = json.load(file)\n",
    "\n",
    "# \"all_reivews\" 키 제거\n",
    "if 'neighbors' in data:\n",
    "    \n",
    "    for candidate in data['neighbors']:\n",
    "        if 'all_reivews' in candidate:\n",
    "            del candidate['all_reviews']\n",
    "            candidate['all_reviews'] = candidate.pop('all_reivews')\n",
    "\n",
    "\n",
    "# 변경된 JSON 데이터를 파일에 쓰기\n",
    "with open(file_path, 'w', encoding='utf-8') as file:\n",
    "    json.dump(data, file, ensure_ascii=False, indent=4)\n",
    "\n",
    "print(\"Successfully removed 'all_reivews' key from JSON file.\")\n"
   ]
  }
 ],
 "metadata": {
  "kernelspec": {
   "display_name": "SUPER",
   "language": "python",
   "name": "python3"
  },
  "language_info": {
   "codemirror_mode": {
    "name": "ipython",
    "version": 3
   },
   "file_extension": ".py",
   "mimetype": "text/x-python",
   "name": "python",
   "nbconvert_exporter": "python",
   "pygments_lexer": "ipython3",
   "version": "3.11.5"
  }
 },
 "nbformat": 4,
 "nbformat_minor": 2
}
